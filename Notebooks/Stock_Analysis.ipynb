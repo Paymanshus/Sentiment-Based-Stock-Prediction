{
  "nbformat": 4,
  "nbformat_minor": 0,
  "metadata": {
    "colab": {
      "name": "Stock Analysis.ipynb",
      "provenance": [],
      "collapsed_sections": [],
      "authorship_tag": "ABX9TyPR1tpxKZd3usrNcp3LMX2p",
      "include_colab_link": true
    },
    "kernelspec": {
      "name": "python3",
      "display_name": "Python 3"
    },
    "widgets": {
      "application/vnd.jupyter.widget-state+json": {
        "139ad88741b244ea9861cab4e451c79e": {
          "model_module": "@jupyter-widgets/controls",
          "model_name": "HBoxModel",
          "state": {
            "_view_name": "HBoxView",
            "_dom_classes": [],
            "_model_name": "HBoxModel",
            "_view_module": "@jupyter-widgets/controls",
            "_model_module_version": "1.5.0",
            "_view_count": null,
            "_view_module_version": "1.5.0",
            "box_style": "",
            "layout": "IPY_MODEL_504c77d0732a47dfa0064bb1333aa772",
            "_model_module": "@jupyter-widgets/controls",
            "children": [
              "IPY_MODEL_7974c92403244625b29cec0a1679d48d",
              "IPY_MODEL_9c400c0aa29b4fc5b74dd8eecf158756"
            ]
          }
        },
        "504c77d0732a47dfa0064bb1333aa772": {
          "model_module": "@jupyter-widgets/base",
          "model_name": "LayoutModel",
          "state": {
            "_view_name": "LayoutView",
            "grid_template_rows": null,
            "right": null,
            "justify_content": null,
            "_view_module": "@jupyter-widgets/base",
            "overflow": null,
            "_model_module_version": "1.2.0",
            "_view_count": null,
            "flex_flow": null,
            "width": null,
            "min_width": null,
            "border": null,
            "align_items": null,
            "bottom": null,
            "_model_module": "@jupyter-widgets/base",
            "top": null,
            "grid_column": null,
            "overflow_y": null,
            "overflow_x": null,
            "grid_auto_flow": null,
            "grid_area": null,
            "grid_template_columns": null,
            "flex": null,
            "_model_name": "LayoutModel",
            "justify_items": null,
            "grid_row": null,
            "max_height": null,
            "align_content": null,
            "visibility": null,
            "align_self": null,
            "height": null,
            "min_height": null,
            "padding": null,
            "grid_auto_rows": null,
            "grid_gap": null,
            "max_width": null,
            "order": null,
            "_view_module_version": "1.2.0",
            "grid_template_areas": null,
            "object_position": null,
            "object_fit": null,
            "grid_auto_columns": null,
            "margin": null,
            "display": null,
            "left": null
          }
        },
        "7974c92403244625b29cec0a1679d48d": {
          "model_module": "@jupyter-widgets/controls",
          "model_name": "FloatProgressModel",
          "state": {
            "_view_name": "ProgressView",
            "style": "IPY_MODEL_711a226cb0a941839f64b2ee6aa4e65b",
            "_dom_classes": [],
            "description": "Downloading: 100%",
            "_model_name": "FloatProgressModel",
            "bar_style": "success",
            "max": 231508,
            "_view_module": "@jupyter-widgets/controls",
            "_model_module_version": "1.5.0",
            "value": 231508,
            "_view_count": null,
            "_view_module_version": "1.5.0",
            "orientation": "horizontal",
            "min": 0,
            "description_tooltip": null,
            "_model_module": "@jupyter-widgets/controls",
            "layout": "IPY_MODEL_2cb76fd880144c559644c4ceb5471a57"
          }
        },
        "9c400c0aa29b4fc5b74dd8eecf158756": {
          "model_module": "@jupyter-widgets/controls",
          "model_name": "HTMLModel",
          "state": {
            "_view_name": "HTMLView",
            "style": "IPY_MODEL_d47608af538e4d7d9e31fbbb623d27a9",
            "_dom_classes": [],
            "description": "",
            "_model_name": "HTMLModel",
            "placeholder": "​",
            "_view_module": "@jupyter-widgets/controls",
            "_model_module_version": "1.5.0",
            "value": " 232k/232k [00:00&lt;00:00, 815kB/s]",
            "_view_count": null,
            "_view_module_version": "1.5.0",
            "description_tooltip": null,
            "_model_module": "@jupyter-widgets/controls",
            "layout": "IPY_MODEL_fe6e5f8b61454e9086960a41ae0f7ad7"
          }
        },
        "711a226cb0a941839f64b2ee6aa4e65b": {
          "model_module": "@jupyter-widgets/controls",
          "model_name": "ProgressStyleModel",
          "state": {
            "_view_name": "StyleView",
            "_model_name": "ProgressStyleModel",
            "description_width": "initial",
            "_view_module": "@jupyter-widgets/base",
            "_model_module_version": "1.5.0",
            "_view_count": null,
            "_view_module_version": "1.2.0",
            "bar_color": null,
            "_model_module": "@jupyter-widgets/controls"
          }
        },
        "2cb76fd880144c559644c4ceb5471a57": {
          "model_module": "@jupyter-widgets/base",
          "model_name": "LayoutModel",
          "state": {
            "_view_name": "LayoutView",
            "grid_template_rows": null,
            "right": null,
            "justify_content": null,
            "_view_module": "@jupyter-widgets/base",
            "overflow": null,
            "_model_module_version": "1.2.0",
            "_view_count": null,
            "flex_flow": null,
            "width": null,
            "min_width": null,
            "border": null,
            "align_items": null,
            "bottom": null,
            "_model_module": "@jupyter-widgets/base",
            "top": null,
            "grid_column": null,
            "overflow_y": null,
            "overflow_x": null,
            "grid_auto_flow": null,
            "grid_area": null,
            "grid_template_columns": null,
            "flex": null,
            "_model_name": "LayoutModel",
            "justify_items": null,
            "grid_row": null,
            "max_height": null,
            "align_content": null,
            "visibility": null,
            "align_self": null,
            "height": null,
            "min_height": null,
            "padding": null,
            "grid_auto_rows": null,
            "grid_gap": null,
            "max_width": null,
            "order": null,
            "_view_module_version": "1.2.0",
            "grid_template_areas": null,
            "object_position": null,
            "object_fit": null,
            "grid_auto_columns": null,
            "margin": null,
            "display": null,
            "left": null
          }
        },
        "d47608af538e4d7d9e31fbbb623d27a9": {
          "model_module": "@jupyter-widgets/controls",
          "model_name": "DescriptionStyleModel",
          "state": {
            "_view_name": "StyleView",
            "_model_name": "DescriptionStyleModel",
            "description_width": "",
            "_view_module": "@jupyter-widgets/base",
            "_model_module_version": "1.5.0",
            "_view_count": null,
            "_view_module_version": "1.2.0",
            "_model_module": "@jupyter-widgets/controls"
          }
        },
        "fe6e5f8b61454e9086960a41ae0f7ad7": {
          "model_module": "@jupyter-widgets/base",
          "model_name": "LayoutModel",
          "state": {
            "_view_name": "LayoutView",
            "grid_template_rows": null,
            "right": null,
            "justify_content": null,
            "_view_module": "@jupyter-widgets/base",
            "overflow": null,
            "_model_module_version": "1.2.0",
            "_view_count": null,
            "flex_flow": null,
            "width": null,
            "min_width": null,
            "border": null,
            "align_items": null,
            "bottom": null,
            "_model_module": "@jupyter-widgets/base",
            "top": null,
            "grid_column": null,
            "overflow_y": null,
            "overflow_x": null,
            "grid_auto_flow": null,
            "grid_area": null,
            "grid_template_columns": null,
            "flex": null,
            "_model_name": "LayoutModel",
            "justify_items": null,
            "grid_row": null,
            "max_height": null,
            "align_content": null,
            "visibility": null,
            "align_self": null,
            "height": null,
            "min_height": null,
            "padding": null,
            "grid_auto_rows": null,
            "grid_gap": null,
            "max_width": null,
            "order": null,
            "_view_module_version": "1.2.0",
            "grid_template_areas": null,
            "object_position": null,
            "object_fit": null,
            "grid_auto_columns": null,
            "margin": null,
            "display": null,
            "left": null
          }
        }
      }
    }
  },
  "cells": [
    {
      "cell_type": "markdown",
      "metadata": {
        "id": "view-in-github",
        "colab_type": "text"
      },
      "source": [
        "<a href=\"https://colab.research.google.com/github/Paymanshus/Sentiment-Based-Stock-Prediction/blob/master/Notebooks/Stock_Analysis.ipynb\" target=\"_parent\"><img src=\"https://colab.research.google.com/assets/colab-badge.svg\" alt=\"Open In Colab\"/></a>"
      ]
    },
    {
      "cell_type": "code",
      "metadata": {
        "colab": {
          "base_uri": "https://localhost:8080/"
        },
        "id": "8G_gPjRF_M82",
        "outputId": "1d263384-c173-4dc7-98f9-814cb12da048"
      },
      "source": [
        "!pip install backtrader\r\n",
        "!pip install transformers"
      ],
      "execution_count": null,
      "outputs": [
        {
          "output_type": "stream",
          "text": [
            "Collecting backtrader\n",
            "\u001b[?25l  Downloading https://files.pythonhosted.org/packages/1a/bf/78aadd993e2719d6764603465fde163ba6ec15cf0e81f13e39ca13451348/backtrader-1.9.76.123-py2.py3-none-any.whl (410kB)\n",
            "\r\u001b[K     |▉                               | 10kB 13.0MB/s eta 0:00:01\r\u001b[K     |█▋                              | 20kB 8.3MB/s eta 0:00:01\r\u001b[K     |██▍                             | 30kB 6.6MB/s eta 0:00:01\r\u001b[K     |███▏                            | 40kB 5.1MB/s eta 0:00:01\r\u001b[K     |████                            | 51kB 6.1MB/s eta 0:00:01\r\u001b[K     |████▉                           | 61kB 6.7MB/s eta 0:00:01\r\u001b[K     |█████▋                          | 71kB 7.0MB/s eta 0:00:01\r\u001b[K     |██████▍                         | 81kB 6.5MB/s eta 0:00:01\r\u001b[K     |███████▏                        | 92kB 7.2MB/s eta 0:00:01\r\u001b[K     |████████                        | 102kB 7.1MB/s eta 0:00:01\r\u001b[K     |████████▉                       | 112kB 7.1MB/s eta 0:00:01\r\u001b[K     |█████████▋                      | 122kB 7.1MB/s eta 0:00:01\r\u001b[K     |██████████▍                     | 133kB 7.1MB/s eta 0:00:01\r\u001b[K     |███████████▏                    | 143kB 7.1MB/s eta 0:00:01\r\u001b[K     |████████████                    | 153kB 7.1MB/s eta 0:00:01\r\u001b[K     |████████████▉                   | 163kB 7.1MB/s eta 0:00:01\r\u001b[K     |█████████████▋                  | 174kB 7.1MB/s eta 0:00:01\r\u001b[K     |██████████████▍                 | 184kB 7.1MB/s eta 0:00:01\r\u001b[K     |███████████████▏                | 194kB 7.1MB/s eta 0:00:01\r\u001b[K     |████████████████                | 204kB 7.1MB/s eta 0:00:01\r\u001b[K     |████████████████▉               | 215kB 7.1MB/s eta 0:00:01\r\u001b[K     |█████████████████▋              | 225kB 7.1MB/s eta 0:00:01\r\u001b[K     |██████████████████▍             | 235kB 7.1MB/s eta 0:00:01\r\u001b[K     |███████████████████▏            | 245kB 7.1MB/s eta 0:00:01\r\u001b[K     |████████████████████            | 256kB 7.1MB/s eta 0:00:01\r\u001b[K     |████████████████████▊           | 266kB 7.1MB/s eta 0:00:01\r\u001b[K     |█████████████████████▋          | 276kB 7.1MB/s eta 0:00:01\r\u001b[K     |██████████████████████▍         | 286kB 7.1MB/s eta 0:00:01\r\u001b[K     |███████████████████████▏        | 296kB 7.1MB/s eta 0:00:01\r\u001b[K     |████████████████████████        | 307kB 7.1MB/s eta 0:00:01\r\u001b[K     |████████████████████████▊       | 317kB 7.1MB/s eta 0:00:01\r\u001b[K     |█████████████████████████▋      | 327kB 7.1MB/s eta 0:00:01\r\u001b[K     |██████████████████████████▍     | 337kB 7.1MB/s eta 0:00:01\r\u001b[K     |███████████████████████████▏    | 348kB 7.1MB/s eta 0:00:01\r\u001b[K     |████████████████████████████    | 358kB 7.1MB/s eta 0:00:01\r\u001b[K     |████████████████████████████▊   | 368kB 7.1MB/s eta 0:00:01\r\u001b[K     |█████████████████████████████▋  | 378kB 7.1MB/s eta 0:00:01\r\u001b[K     |██████████████████████████████▍ | 389kB 7.1MB/s eta 0:00:01\r\u001b[K     |███████████████████████████████▏| 399kB 7.1MB/s eta 0:00:01\r\u001b[K     |████████████████████████████████| 409kB 7.1MB/s eta 0:00:01\r\u001b[K     |████████████████████████████████| 419kB 7.1MB/s \n",
            "\u001b[?25hInstalling collected packages: backtrader\n",
            "Successfully installed backtrader-1.9.76.123\n",
            "Collecting transformers\n",
            "\u001b[?25l  Downloading https://files.pythonhosted.org/packages/50/0c/7d5950fcd80b029be0a8891727ba21e0cd27692c407c51261c3c921f6da3/transformers-4.1.1-py3-none-any.whl (1.5MB)\n",
            "\u001b[K     |████████████████████████████████| 1.5MB 7.4MB/s \n",
            "\u001b[?25hRequirement already satisfied: requests in /usr/local/lib/python3.6/dist-packages (from transformers) (2.23.0)\n",
            "Requirement already satisfied: tqdm>=4.27 in /usr/local/lib/python3.6/dist-packages (from transformers) (4.41.1)\n",
            "Requirement already satisfied: regex!=2019.12.17 in /usr/local/lib/python3.6/dist-packages (from transformers) (2019.12.20)\n",
            "Requirement already satisfied: dataclasses; python_version < \"3.7\" in /usr/local/lib/python3.6/dist-packages (from transformers) (0.8)\n",
            "Collecting tokenizers==0.9.4\n",
            "\u001b[?25l  Downloading https://files.pythonhosted.org/packages/0f/1c/e789a8b12e28be5bc1ce2156cf87cb522b379be9cadc7ad8091a4cc107c4/tokenizers-0.9.4-cp36-cp36m-manylinux2010_x86_64.whl (2.9MB)\n",
            "\u001b[K     |████████████████████████████████| 2.9MB 18.5MB/s \n",
            "\u001b[?25hCollecting sacremoses\n",
            "\u001b[?25l  Downloading https://files.pythonhosted.org/packages/7d/34/09d19aff26edcc8eb2a01bed8e98f13a1537005d31e95233fd48216eed10/sacremoses-0.0.43.tar.gz (883kB)\n",
            "\u001b[K     |████████████████████████████████| 890kB 23.8MB/s \n",
            "\u001b[?25hRequirement already satisfied: filelock in /usr/local/lib/python3.6/dist-packages (from transformers) (3.0.12)\n",
            "Requirement already satisfied: numpy in /usr/local/lib/python3.6/dist-packages (from transformers) (1.19.4)\n",
            "Requirement already satisfied: packaging in /usr/local/lib/python3.6/dist-packages (from transformers) (20.8)\n",
            "Requirement already satisfied: idna<3,>=2.5 in /usr/local/lib/python3.6/dist-packages (from requests->transformers) (2.10)\n",
            "Requirement already satisfied: urllib3!=1.25.0,!=1.25.1,<1.26,>=1.21.1 in /usr/local/lib/python3.6/dist-packages (from requests->transformers) (1.24.3)\n",
            "Requirement already satisfied: certifi>=2017.4.17 in /usr/local/lib/python3.6/dist-packages (from requests->transformers) (2020.12.5)\n",
            "Requirement already satisfied: chardet<4,>=3.0.2 in /usr/local/lib/python3.6/dist-packages (from requests->transformers) (3.0.4)\n",
            "Requirement already satisfied: six in /usr/local/lib/python3.6/dist-packages (from sacremoses->transformers) (1.15.0)\n",
            "Requirement already satisfied: click in /usr/local/lib/python3.6/dist-packages (from sacremoses->transformers) (7.1.2)\n",
            "Requirement already satisfied: joblib in /usr/local/lib/python3.6/dist-packages (from sacremoses->transformers) (1.0.0)\n",
            "Requirement already satisfied: pyparsing>=2.0.2 in /usr/local/lib/python3.6/dist-packages (from packaging->transformers) (2.4.7)\n",
            "Building wheels for collected packages: sacremoses\n",
            "  Building wheel for sacremoses (setup.py) ... \u001b[?25l\u001b[?25hdone\n",
            "  Created wheel for sacremoses: filename=sacremoses-0.0.43-cp36-none-any.whl size=893261 sha256=5964fa84ac14ca9e7466c833a0bd439a929f081caefbfbb25d01526b311a6daa\n",
            "  Stored in directory: /root/.cache/pip/wheels/29/3c/fd/7ce5c3f0666dab31a50123635e6fb5e19ceb42ce38d4e58f45\n",
            "Successfully built sacremoses\n",
            "Installing collected packages: tokenizers, sacremoses, transformers\n",
            "Successfully installed sacremoses-0.0.43 tokenizers-0.9.4 transformers-4.1.1\n"
          ],
          "name": "stdout"
        }
      ]
    },
    {
      "cell_type": "code",
      "metadata": {
        "colab": {
          "base_uri": "https://localhost:8080/"
        },
        "id": "4xAr6IPwkpKJ",
        "outputId": "80cf8f73-bb39-4e3f-dd1d-77b5c0ef50d0"
      },
      "source": [
        "import pandas as pd\r\n",
        "from nltk.sentiment.vader import SentimentIntensityAnalyzer\r\n",
        "\r\n",
        "import nltk\r\n",
        "nltk.download('vader_lexicon')\r\n",
        "\r\n",
        "from transformers import BertTokenizer, TFBertForSequenceClassification\r\n",
        "import tensorflow as tf"
      ],
      "execution_count": null,
      "outputs": [
        {
          "output_type": "stream",
          "text": [
            "[nltk_data] Downloading package vader_lexicon to /root/nltk_data...\n",
            "[nltk_data]   Package vader_lexicon is already up-to-date!\n"
          ],
          "name": "stdout"
        }
      ]
    },
    {
      "cell_type": "code",
      "metadata": {
        "colab": {
          "base_uri": "https://localhost:8080/"
        },
        "id": "Uh7x9tRcmJUt",
        "outputId": "04c62cee-ecc8-43c5-dbbe-3e030880d5b2"
      },
      "source": [
        "from google.colab import drive\r\n",
        "drive.mount('/content/drive')"
      ],
      "execution_count": null,
      "outputs": [
        {
          "output_type": "stream",
          "text": [
            "Mounted at /content/drive\n"
          ],
          "name": "stdout"
        }
      ]
    },
    {
      "cell_type": "code",
      "metadata": {
        "id": "hTVQtlDdhzO-"
      },
      "source": [
        "df = pd.read_csv('drive/MyDrive/finBERT/saved_text.csv')"
      ],
      "execution_count": null,
      "outputs": []
    },
    {
      "cell_type": "code",
      "metadata": {
        "id": "MyzM-oFAdo5A",
        "colab": {
          "base_uri": "https://localhost:8080/",
          "height": 314
        },
        "outputId": "c71d6e47-7ff2-4cd4-aedc-422bfd95d566"
      },
      "source": [
        "df"
      ],
      "execution_count": null,
      "outputs": [
        {
          "output_type": "execute_result",
          "data": {
            "text/html": [
              "<div>\n",
              "<style scoped>\n",
              "    .dataframe tbody tr th:only-of-type {\n",
              "        vertical-align: middle;\n",
              "    }\n",
              "\n",
              "    .dataframe tbody tr th {\n",
              "        vertical-align: top;\n",
              "    }\n",
              "\n",
              "    .dataframe thead th {\n",
              "        text-align: right;\n",
              "    }\n",
              "</style>\n",
              "<table border=\"1\" class=\"dataframe\">\n",
              "  <thead>\n",
              "    <tr style=\"text-align: right;\">\n",
              "      <th></th>\n",
              "      <th>Unnamed: 0</th>\n",
              "      <th>0</th>\n",
              "      <th>1</th>\n",
              "    </tr>\n",
              "  </thead>\n",
              "  <tbody>\n",
              "    <tr>\n",
              "      <th>0</th>\n",
              "      <td>0</td>\n",
              "      <td>activision.txt</td>\n",
              "      <td>just what can just 1 to 7 Barbie cycle for jun...</td>\n",
              "    </tr>\n",
              "    <tr>\n",
              "      <th>1</th>\n",
              "      <td>1</td>\n",
              "      <td>cramer1.txt</td>\n",
              "      <td>mobile can sorry can you just crossed. WhatsAp...</td>\n",
              "    </tr>\n",
              "    <tr>\n",
              "      <th>2</th>\n",
              "      <td>2</td>\n",
              "      <td>market_correct.txt</td>\n",
              "      <td>because you bring a unique perspective window ...</td>\n",
              "    </tr>\n",
              "    <tr>\n",
              "      <th>3</th>\n",
              "      <td>3</td>\n",
              "      <td>papajohn.txt</td>\n",
              "      <td>hundred thousand restaurants close to the amou...</td>\n",
              "    </tr>\n",
              "    <tr>\n",
              "      <th>4</th>\n",
              "      <td>4</td>\n",
              "      <td>skillz.txt</td>\n",
              "      <td>Paradise in paradise today. spark. company wil...</td>\n",
              "    </tr>\n",
              "    <tr>\n",
              "      <th>5</th>\n",
              "      <td>5</td>\n",
              "      <td>tesla_29_3_20.txt</td>\n",
              "      <td>performance based on the rate of yesterday for...</td>\n",
              "    </tr>\n",
              "    <tr>\n",
              "      <th>6</th>\n",
              "      <td>6</td>\n",
              "      <td>tesla_3_12_20.txt</td>\n",
              "      <td>please. dcf valuation estimate 15 units in 201...</td>\n",
              "    </tr>\n",
              "    <tr>\n",
              "      <th>7</th>\n",
              "      <td>7</td>\n",
              "      <td>tesla_5_5_20.txt</td>\n",
              "      <td>NaN</td>\n",
              "    </tr>\n",
              "    <tr>\n",
              "      <th>8</th>\n",
              "      <td>8</td>\n",
              "      <td>WSupdate.txt</td>\n",
              "      <td>it was all our open this morning the diagonals...</td>\n",
              "    </tr>\n",
              "  </tbody>\n",
              "</table>\n",
              "</div>"
            ],
            "text/plain": [
              "   Unnamed: 0  ...                                                  1\n",
              "0           0  ...  just what can just 1 to 7 Barbie cycle for jun...\n",
              "1           1  ...  mobile can sorry can you just crossed. WhatsAp...\n",
              "2           2  ...  because you bring a unique perspective window ...\n",
              "3           3  ...  hundred thousand restaurants close to the amou...\n",
              "4           4  ...  Paradise in paradise today. spark. company wil...\n",
              "5           5  ...  performance based on the rate of yesterday for...\n",
              "6           6  ...  please. dcf valuation estimate 15 units in 201...\n",
              "7           7  ...                                                NaN\n",
              "8           8  ...  it was all our open this morning the diagonals...\n",
              "\n",
              "[9 rows x 3 columns]"
            ]
          },
          "metadata": {
            "tags": []
          },
          "execution_count": 7
        }
      ]
    },
    {
      "cell_type": "code",
      "metadata": {
        "id": "o4S5j4f4k_mS"
      },
      "source": [
        "df.dropna(inplace=True)\r\n",
        "df.reset_index(drop=True, inplace=True)\r\n",
        "df.drop(df.columns[0], axis=1, inplace=True)\r\n",
        "df.columns = ['file_name', 'text']"
      ],
      "execution_count": null,
      "outputs": []
    },
    {
      "cell_type": "code",
      "metadata": {
        "colab": {
          "base_uri": "https://localhost:8080/",
          "height": 284
        },
        "id": "MJUQgaeslExL",
        "outputId": "8e21455a-9a6a-4f33-82fc-f0c1f3a32095"
      },
      "source": [
        "df"
      ],
      "execution_count": null,
      "outputs": [
        {
          "output_type": "execute_result",
          "data": {
            "text/html": [
              "<div>\n",
              "<style scoped>\n",
              "    .dataframe tbody tr th:only-of-type {\n",
              "        vertical-align: middle;\n",
              "    }\n",
              "\n",
              "    .dataframe tbody tr th {\n",
              "        vertical-align: top;\n",
              "    }\n",
              "\n",
              "    .dataframe thead th {\n",
              "        text-align: right;\n",
              "    }\n",
              "</style>\n",
              "<table border=\"1\" class=\"dataframe\">\n",
              "  <thead>\n",
              "    <tr style=\"text-align: right;\">\n",
              "      <th></th>\n",
              "      <th>file_name</th>\n",
              "      <th>text</th>\n",
              "    </tr>\n",
              "  </thead>\n",
              "  <tbody>\n",
              "    <tr>\n",
              "      <th>0</th>\n",
              "      <td>activision.txt</td>\n",
              "      <td>just what can just 1 to 7 Barbie cycle for jun...</td>\n",
              "    </tr>\n",
              "    <tr>\n",
              "      <th>1</th>\n",
              "      <td>cramer1.txt</td>\n",
              "      <td>mobile can sorry can you just crossed. WhatsAp...</td>\n",
              "    </tr>\n",
              "    <tr>\n",
              "      <th>2</th>\n",
              "      <td>market_correct.txt</td>\n",
              "      <td>because you bring a unique perspective window ...</td>\n",
              "    </tr>\n",
              "    <tr>\n",
              "      <th>3</th>\n",
              "      <td>papajohn.txt</td>\n",
              "      <td>hundred thousand restaurants close to the amou...</td>\n",
              "    </tr>\n",
              "    <tr>\n",
              "      <th>4</th>\n",
              "      <td>skillz.txt</td>\n",
              "      <td>Paradise in paradise today. spark. company wil...</td>\n",
              "    </tr>\n",
              "    <tr>\n",
              "      <th>5</th>\n",
              "      <td>tesla_29_3_20.txt</td>\n",
              "      <td>performance based on the rate of yesterday for...</td>\n",
              "    </tr>\n",
              "    <tr>\n",
              "      <th>6</th>\n",
              "      <td>tesla_3_12_20.txt</td>\n",
              "      <td>please. dcf valuation estimate 15 units in 201...</td>\n",
              "    </tr>\n",
              "    <tr>\n",
              "      <th>7</th>\n",
              "      <td>WSupdate.txt</td>\n",
              "      <td>it was all our open this morning the diagonals...</td>\n",
              "    </tr>\n",
              "  </tbody>\n",
              "</table>\n",
              "</div>"
            ],
            "text/plain": [
              "            file_name                                               text\n",
              "0      activision.txt  just what can just 1 to 7 Barbie cycle for jun...\n",
              "1         cramer1.txt  mobile can sorry can you just crossed. WhatsAp...\n",
              "2  market_correct.txt  because you bring a unique perspective window ...\n",
              "3        papajohn.txt  hundred thousand restaurants close to the amou...\n",
              "4          skillz.txt  Paradise in paradise today. spark. company wil...\n",
              "5   tesla_29_3_20.txt  performance based on the rate of yesterday for...\n",
              "6   tesla_3_12_20.txt  please. dcf valuation estimate 15 units in 201...\n",
              "7        WSupdate.txt  it was all our open this morning the diagonals..."
            ]
          },
          "metadata": {
            "tags": []
          },
          "execution_count": 9
        }
      ]
    },
    {
      "cell_type": "code",
      "metadata": {
        "colab": {
          "base_uri": "https://localhost:8080/",
          "height": 136
        },
        "id": "oMtItDxLdPmV",
        "outputId": "b58afc81-053f-414a-cc62-af49584bc012"
      },
      "source": [
        "dates = pd.read_csv('drive/MyDrive/finBERT/dates.csv')\r\n",
        "dates.columns = ['file_name', 'Date']\r\n",
        "dates"
      ],
      "execution_count": null,
      "outputs": [
        {
          "output_type": "execute_result",
          "data": {
            "text/html": [
              "<div>\n",
              "<style scoped>\n",
              "    .dataframe tbody tr th:only-of-type {\n",
              "        vertical-align: middle;\n",
              "    }\n",
              "\n",
              "    .dataframe tbody tr th {\n",
              "        vertical-align: top;\n",
              "    }\n",
              "\n",
              "    .dataframe thead th {\n",
              "        text-align: right;\n",
              "    }\n",
              "</style>\n",
              "<table border=\"1\" class=\"dataframe\">\n",
              "  <thead>\n",
              "    <tr style=\"text-align: right;\">\n",
              "      <th></th>\n",
              "      <th>file_name</th>\n",
              "      <th>date</th>\n",
              "    </tr>\n",
              "  </thead>\n",
              "  <tbody>\n",
              "    <tr>\n",
              "      <th>0</th>\n",
              "      <td>tesla_29_3_20.txt</td>\n",
              "      <td>29_3_20</td>\n",
              "    </tr>\n",
              "    <tr>\n",
              "      <th>1</th>\n",
              "      <td>tesla_3_12_20.txt</td>\n",
              "      <td>3_12_20</td>\n",
              "    </tr>\n",
              "    <tr>\n",
              "      <th>2</th>\n",
              "      <td>tesla_5_5_20.txt</td>\n",
              "      <td>5_5_20</td>\n",
              "    </tr>\n",
              "  </tbody>\n",
              "</table>\n",
              "</div>"
            ],
            "text/plain": [
              "           file_name     date\n",
              "0  tesla_29_3_20.txt  29_3_20\n",
              "1  tesla_3_12_20.txt  3_12_20\n",
              "2   tesla_5_5_20.txt   5_5_20"
            ]
          },
          "metadata": {
            "tags": []
          },
          "execution_count": 10
        }
      ]
    },
    {
      "cell_type": "code",
      "metadata": {
        "id": "bxgqq_78dP3N"
      },
      "source": [
        "df_final = pd.merge(df, dates, how='outer', on='file_name')"
      ],
      "execution_count": null,
      "outputs": []
    },
    {
      "cell_type": "code",
      "metadata": {
        "id": "r9TvNVFVeTLN"
      },
      "source": [
        "df_final.dropna(inplace=True)\r\n",
        "df_final.reset_index(drop=True, inplace=True)"
      ],
      "execution_count": null,
      "outputs": []
    },
    {
      "cell_type": "code",
      "metadata": {
        "colab": {
          "base_uri": "https://localhost:8080/",
          "height": 106
        },
        "id": "jkbzuEMcewNM",
        "outputId": "be57d9e9-05c7-44c0-c9d7-a56c6f9482d0"
      },
      "source": [
        "df_final"
      ],
      "execution_count": null,
      "outputs": [
        {
          "output_type": "execute_result",
          "data": {
            "text/html": [
              "<div>\n",
              "<style scoped>\n",
              "    .dataframe tbody tr th:only-of-type {\n",
              "        vertical-align: middle;\n",
              "    }\n",
              "\n",
              "    .dataframe tbody tr th {\n",
              "        vertical-align: top;\n",
              "    }\n",
              "\n",
              "    .dataframe thead th {\n",
              "        text-align: right;\n",
              "    }\n",
              "</style>\n",
              "<table border=\"1\" class=\"dataframe\">\n",
              "  <thead>\n",
              "    <tr style=\"text-align: right;\">\n",
              "      <th></th>\n",
              "      <th>file_name</th>\n",
              "      <th>text</th>\n",
              "      <th>date</th>\n",
              "    </tr>\n",
              "  </thead>\n",
              "  <tbody>\n",
              "    <tr>\n",
              "      <th>0</th>\n",
              "      <td>tesla_29_3_20.txt</td>\n",
              "      <td>performance based on the rate of yesterday for...</td>\n",
              "      <td>29_3_20</td>\n",
              "    </tr>\n",
              "    <tr>\n",
              "      <th>1</th>\n",
              "      <td>tesla_3_12_20.txt</td>\n",
              "      <td>please. dcf valuation estimate 15 units in 201...</td>\n",
              "      <td>3_12_20</td>\n",
              "    </tr>\n",
              "  </tbody>\n",
              "</table>\n",
              "</div>"
            ],
            "text/plain": [
              "           file_name  ...     date\n",
              "0  tesla_29_3_20.txt  ...  29_3_20\n",
              "1  tesla_3_12_20.txt  ...  3_12_20\n",
              "\n",
              "[2 rows x 3 columns]"
            ]
          },
          "metadata": {
            "tags": []
          },
          "execution_count": 13
        }
      ]
    },
    {
      "cell_type": "markdown",
      "metadata": {
        "id": "wKuq9XfWdQJ_"
      },
      "source": [
        "# Vader"
      ]
    },
    {
      "cell_type": "markdown",
      "metadata": {
        "id": "LM4kQ6Lt7ZzH"
      },
      "source": [
        "Expected Results from Vader not optimal, need to perform analysis based on financial training data while Vader uses generic Wikipedia data etc."
      ]
    },
    {
      "cell_type": "code",
      "metadata": {
        "id": "OAGLWTTbnCFa"
      },
      "source": [
        "vader = SentimentIntensityAnalyzer()"
      ],
      "execution_count": null,
      "outputs": []
    },
    {
      "cell_type": "code",
      "metadata": {
        "id": "0SSq5V-pmz66"
      },
      "source": [
        "sentiments = {}"
      ],
      "execution_count": null,
      "outputs": []
    },
    {
      "cell_type": "code",
      "metadata": {
        "colab": {
          "base_uri": "https://localhost:8080/"
        },
        "id": "VHRXNS2aoEpK",
        "outputId": "166f4b7b-1c65-47b6-dbc7-060edd2eb24b"
      },
      "source": [
        "vader.polarity_scores(df['text'][0])"
      ],
      "execution_count": null,
      "outputs": [
        {
          "output_type": "execute_result",
          "data": {
            "text/plain": [
              "{'compound': 0.9705, 'neg': 0.019, 'neu': 0.865, 'pos': 0.117}"
            ]
          },
          "metadata": {
            "tags": []
          },
          "execution_count": 18
        }
      ]
    },
    {
      "cell_type": "code",
      "metadata": {
        "colab": {
          "base_uri": "https://localhost:8080/"
        },
        "id": "PptdM_XBm6o8",
        "outputId": "b00b96ad-3584-4d70-a4f8-6d7218b912c2"
      },
      "source": [
        "for i in range(df.shape[0]):\r\n",
        "  sentiments[df['text'][i]] = vader.polarity_scores(df['text'][i])\r\n",
        "sentiments"
      ],
      "execution_count": null,
      "outputs": [
        {
          "output_type": "execute_result",
          "data": {
            "text/plain": [
              "{'Paradise in paradise today. spark. company will be speech. ringmobi is per patient is to pay the competition is there. today we came up with you teams in the world where things we refer to it as the application of them everything from Bol games like we did that which is the most acceptable upon our things like education and exercise location. not too shabby this is this is the moment. covid-19 35% foreignchi. 20 minut now years this year. tecno mobile. tecno in1 Pro. on average tip of penis at higher than at higher than the industry what is. sports people longer. human and opportunity to compete in the favourite team is eating out. market 16% everything for joining us today. ': {'compound': 0.9601,\n",
              "  'neg': 0.01,\n",
              "  'neu': 0.838,\n",
              "  'pos': 0.152},\n",
              " \"because you bring a unique perspective window in the whether you're in the market for short term and long term is used as it was yesterday thinking about lightning up across your portfolio in fact you if done but I think you are coming yesterday was now racing cash everywhere at this point it's about the near term outcome is a look back at the beginning for the year. \": {'compound': 0.0,\n",
              "  'neg': 0.0,\n",
              "  'neu': 1.0,\n",
              "  'pos': 0.0},\n",
              " \"hundred thousand restaurants close to the amount spent on challenging your feed industry. story like us in your test series what happens in 2020. biggest company and its in our restaurants in everybody is excited. cross launch in Dominos Sector 19. star crossed with this is another reason to be it is it every day never frozen 6.3 dis is not in our labours and now we just 25. strawberry take the marketplaces pointed at work people want to use my question you guys have had such strong business unit has the higher the time in a lot of different people looking for help with the water in nothing but then why would you staffing in flight now and can be kept on next to you know. focus 100% is not taking care of our customers for our community. animal and. you know what I would soon your marvelous appeared in the same pattern as a big thing to do Wax Museum play that many driver so what's the minutes of your Marvel versus The outsourced weather. agent for dash and host made in East and all the big apple. Torrent. is number one bed in a special product. Rio Linda back to the community happy birthday. actor created everything from from top to bottom problems with owning a separated. \": {'compound': 0.9764,\n",
              "  'neg': 0.029,\n",
              "  'neu': 0.821,\n",
              "  'pos': 0.151},\n",
              " 'it was all our open this morning the diagonals AC and smt580 yesterday. ': {'compound': 0.0,\n",
              "  'neg': 0.0,\n",
              "  'neu': 1.0,\n",
              "  'pos': 0.0},\n",
              " \"just what can just 1 to 7 Barbie cycle for juniors. Barbie injuries was also Barbie in the recently the industry steam on the ground for 10% what do you what you tell the IT industry but that is result. and if you think that we were established are great. and when you think about you are there is a pig is it called you remove. crossfire franchises. prices have never actually been on mobile devices but poor. gaming industry has been middle class customers in very 12 market program 52 simit version Mobile gaming with friends from the business for this is operated in 30 or 40 countries to business that operates the day in 225 and the audience size the draught audiences have gone into the air and soil as you see your friend price is like Call of Duty migrate from just PC and console. corporation of Chennai. topic. 20 casual the matches matches that we had in China and movies coronavirus future we have employees working from home and the continuous work from home until we feel that it's safe to them not working how many longer but then he will material impact that meets in the spark. \": {'compound': 0.9705,\n",
              "  'neg': 0.019,\n",
              "  'neu': 0.865,\n",
              "  'pos': 0.117},\n",
              " 'mobile can sorry can you just crossed. WhatsApp. HF. if you have to do is mean everything you need. its position and production spelling cash-strapped. best pics for India. write the best age of estimation for you never follow on Twitter about Western Vikrama #sanjivani2 mad money at cnbc.com for chemist at 173 cm BC is something that money does cnbc.com. ': {'compound': 0.7096,\n",
              "  'neg': 0.064,\n",
              "  'neu': 0.815,\n",
              "  'pos': 0.12},\n",
              " \"performance based on the rate of yesterday for cheap in the company's market. you want mass kitchen and a great because. country stopped factory. in between. pricing treated with apple. worm PC business. \": {'compound': 0.5423,\n",
              "  'neg': 0.052,\n",
              "  'neu': 0.799,\n",
              "  'pos': 0.149},\n",
              " 'please. dcf valuation estimate 15 units in 2014 and therefore after that we have just annoying property to Regrowth. started from 451. an expansion gym their adoption case scenario keep Governor pic of 26% global EV adoption by 2030 40% 2035. for bigger than he had just returned to the mode of the modest Getting their author. the earth is the Chinese Chinese. if you talk to the guys. ': {'compound': -0.1027,\n",
              "  'neg': 0.038,\n",
              "  'neu': 0.931,\n",
              "  'pos': 0.032}}"
            ]
          },
          "metadata": {
            "tags": []
          },
          "execution_count": 19
        }
      ]
    },
    {
      "cell_type": "code",
      "metadata": {
        "id": "Y9YFIUi-pXJ-",
        "colab": {
          "base_uri": "https://localhost:8080/"
        },
        "outputId": "ddd63110-6962-444d-aa70-77261039582a"
      },
      "source": [
        "comp_list = []\r\n",
        "\r\n",
        "for i in range(len(sentiments)):\r\n",
        "  comp_list.append(sentiments[list(sentiments)[i]]['compound'])\r\n",
        "\r\n",
        "comp_list"
      ],
      "execution_count": null,
      "outputs": [
        {
          "output_type": "execute_result",
          "data": {
            "text/plain": [
              "[0.9705, 0.7096, 0.0, 0.9764, 0.9601, 0.5423, -0.1027, 0.0]"
            ]
          },
          "metadata": {
            "tags": []
          },
          "execution_count": 41
        }
      ]
    },
    {
      "cell_type": "code",
      "metadata": {
        "id": "bfCIoJq4szGf",
        "colab": {
          "base_uri": "https://localhost:8080/"
        },
        "outputId": "9bdc837c-7f2e-4c73-c3c8-93e4c9ad9982"
      },
      "source": [
        "sent_list = ['positive' if i>0 else 'negative' if i<0 else 'neutral' for i in comp_list]\r\n",
        "sent_list"
      ],
      "execution_count": 44,
      "outputs": [
        {
          "output_type": "execute_result",
          "data": {
            "text/plain": [
              "['positive',\n",
              " 'positive',\n",
              " 'neutral',\n",
              " 'positive',\n",
              " 'positive',\n",
              " 'positive',\n",
              " 'negative',\n",
              " 'neutral']"
            ]
          },
          "metadata": {
            "tags": []
          },
          "execution_count": 44
        }
      ]
    },
    {
      "cell_type": "markdown",
      "metadata": {
        "id": "_7G4AaRDzQj1"
      },
      "source": [
        "# FinBERT"
      ]
    },
    {
      "cell_type": "markdown",
      "metadata": {
        "id": "YCE4r3YN8AHk"
      },
      "source": [
        "Using FinBERT which is a BERT model pretrained on a Financial Lexicon and further trained using Supervised Learning on a Financial Sentiment Word List(Trained on Financial PhraseBank: https://www.kaggle.com/ankurzing/sentiment-analysis-for-financial-news?select=FinancialPhraseBank)"
      ]
    },
    {
      "cell_type": "code",
      "metadata": {
        "colab": {
          "base_uri": "https://localhost:8080/",
          "height": 137,
          "referenced_widgets": [
            "139ad88741b244ea9861cab4e451c79e",
            "504c77d0732a47dfa0064bb1333aa772",
            "7974c92403244625b29cec0a1679d48d",
            "9c400c0aa29b4fc5b74dd8eecf158756",
            "711a226cb0a941839f64b2ee6aa4e65b",
            "2cb76fd880144c559644c4ceb5471a57",
            "d47608af538e4d7d9e31fbbb623d27a9",
            "fe6e5f8b61454e9086960a41ae0f7ad7"
          ]
        },
        "id": "4Hgkt8SH0sTZ",
        "outputId": "6338b40c-a00d-4e1b-ed8b-5ed295867e85"
      },
      "source": [
        "tokenizer = BertTokenizer.from_pretrained('bert-base-uncased')\r\n",
        "model = TFBertForSequenceClassification.from_pretrained('drive/MyDrive/finBERT/pytorch_model.bin', config='drive/MyDrive/finBERT/config.json', num_labels=3, from_pt=True)"
      ],
      "execution_count": 49,
      "outputs": [
        {
          "output_type": "display_data",
          "data": {
            "application/vnd.jupyter.widget-view+json": {
              "model_id": "139ad88741b244ea9861cab4e451c79e",
              "version_minor": 0,
              "version_major": 2
            },
            "text/plain": [
              "HBox(children=(FloatProgress(value=0.0, description='Downloading', max=231508.0, style=ProgressStyle(descripti…"
            ]
          },
          "metadata": {
            "tags": []
          }
        },
        {
          "output_type": "stream",
          "text": [
            "\n"
          ],
          "name": "stdout"
        },
        {
          "output_type": "stream",
          "text": [
            "All PyTorch model weights were used when initializing TFBertForSequenceClassification.\n",
            "\n",
            "All the weights of TFBertForSequenceClassification were initialized from the PyTorch model.\n",
            "If your task is similar to the task the model of the checkpoint was trained on, you can already use TFBertForSequenceClassification for predictions without further training.\n"
          ],
          "name": "stderr"
        }
      ]
    },
    {
      "cell_type": "code",
      "metadata": {
        "id": "CkvQEEyL_9E5"
      },
      "source": [
        "label_list = ['positive', 'negative', 'neutral']"
      ],
      "execution_count": 50,
      "outputs": []
    },
    {
      "cell_type": "code",
      "metadata": {
        "id": "nfEeXajE1OdF"
      },
      "source": [
        "def finbert_predict(text):\r\n",
        "  inputs = tokenizer(text, return_tensors=\"tf\", max_length=512, truncation=True)\r\n",
        "  inputs[\"labels\"] = tf.reshape(tf.constant(1), (-1, 1)) # Batch size 1\r\n",
        "  outputs = model(inputs)\r\n",
        "\r\n",
        "  sent = label_list[tf.argmax(outputs[1].numpy()[0]).numpy()]\r\n",
        "  # print(sent)\r\n",
        "\r\n",
        "  return sent"
      ],
      "execution_count": 51,
      "outputs": []
    },
    {
      "cell_type": "code",
      "metadata": {
        "colab": {
          "base_uri": "https://localhost:8080/",
          "height": 284
        },
        "id": "M-G1Vk0ELpPH",
        "outputId": "bb1840c1-28ed-48e2-f239-db9806d16826"
      },
      "source": [
        "results = pd.DataFrame(df['text'].apply(finbert_predict))\r\n",
        "results.columns = ['sentiment']\r\n",
        "results"
      ],
      "execution_count": 52,
      "outputs": [
        {
          "output_type": "execute_result",
          "data": {
            "text/html": [
              "<div>\n",
              "<style scoped>\n",
              "    .dataframe tbody tr th:only-of-type {\n",
              "        vertical-align: middle;\n",
              "    }\n",
              "\n",
              "    .dataframe tbody tr th {\n",
              "        vertical-align: top;\n",
              "    }\n",
              "\n",
              "    .dataframe thead th {\n",
              "        text-align: right;\n",
              "    }\n",
              "</style>\n",
              "<table border=\"1\" class=\"dataframe\">\n",
              "  <thead>\n",
              "    <tr style=\"text-align: right;\">\n",
              "      <th></th>\n",
              "      <th>sentiment</th>\n",
              "    </tr>\n",
              "  </thead>\n",
              "  <tbody>\n",
              "    <tr>\n",
              "      <th>0</th>\n",
              "      <td>neutral</td>\n",
              "    </tr>\n",
              "    <tr>\n",
              "      <th>1</th>\n",
              "      <td>neutral</td>\n",
              "    </tr>\n",
              "    <tr>\n",
              "      <th>2</th>\n",
              "      <td>neutral</td>\n",
              "    </tr>\n",
              "    <tr>\n",
              "      <th>3</th>\n",
              "      <td>neutral</td>\n",
              "    </tr>\n",
              "    <tr>\n",
              "      <th>4</th>\n",
              "      <td>neutral</td>\n",
              "    </tr>\n",
              "    <tr>\n",
              "      <th>5</th>\n",
              "      <td>neutral</td>\n",
              "    </tr>\n",
              "    <tr>\n",
              "      <th>6</th>\n",
              "      <td>neutral</td>\n",
              "    </tr>\n",
              "    <tr>\n",
              "      <th>7</th>\n",
              "      <td>neutral</td>\n",
              "    </tr>\n",
              "  </tbody>\n",
              "</table>\n",
              "</div>"
            ],
            "text/plain": [
              "  sentiment\n",
              "0   neutral\n",
              "1   neutral\n",
              "2   neutral\n",
              "3   neutral\n",
              "4   neutral\n",
              "5   neutral\n",
              "6   neutral\n",
              "7   neutral"
            ]
          },
          "metadata": {
            "tags": []
          },
          "execution_count": 52
        }
      ]
    },
    {
      "cell_type": "code",
      "metadata": {
        "colab": {
          "base_uri": "https://localhost:8080/",
          "height": 284
        },
        "id": "WwlKfyCgZdJi",
        "outputId": "d7b79937-b3bb-4438-bddb-284b3640b4c6"
      },
      "source": [
        "results['sentiment'] = results['sentiment'].replace({'neutral': 0, 'positive': 1, 'negative':-1})\r\n",
        "results"
      ],
      "execution_count": 53,
      "outputs": [
        {
          "output_type": "execute_result",
          "data": {
            "text/html": [
              "<div>\n",
              "<style scoped>\n",
              "    .dataframe tbody tr th:only-of-type {\n",
              "        vertical-align: middle;\n",
              "    }\n",
              "\n",
              "    .dataframe tbody tr th {\n",
              "        vertical-align: top;\n",
              "    }\n",
              "\n",
              "    .dataframe thead th {\n",
              "        text-align: right;\n",
              "    }\n",
              "</style>\n",
              "<table border=\"1\" class=\"dataframe\">\n",
              "  <thead>\n",
              "    <tr style=\"text-align: right;\">\n",
              "      <th></th>\n",
              "      <th>sentiment</th>\n",
              "    </tr>\n",
              "  </thead>\n",
              "  <tbody>\n",
              "    <tr>\n",
              "      <th>0</th>\n",
              "      <td>0</td>\n",
              "    </tr>\n",
              "    <tr>\n",
              "      <th>1</th>\n",
              "      <td>0</td>\n",
              "    </tr>\n",
              "    <tr>\n",
              "      <th>2</th>\n",
              "      <td>0</td>\n",
              "    </tr>\n",
              "    <tr>\n",
              "      <th>3</th>\n",
              "      <td>0</td>\n",
              "    </tr>\n",
              "    <tr>\n",
              "      <th>4</th>\n",
              "      <td>0</td>\n",
              "    </tr>\n",
              "    <tr>\n",
              "      <th>5</th>\n",
              "      <td>0</td>\n",
              "    </tr>\n",
              "    <tr>\n",
              "      <th>6</th>\n",
              "      <td>0</td>\n",
              "    </tr>\n",
              "    <tr>\n",
              "      <th>7</th>\n",
              "      <td>0</td>\n",
              "    </tr>\n",
              "  </tbody>\n",
              "</table>\n",
              "</div>"
            ],
            "text/plain": [
              "   sentiment\n",
              "0          0\n",
              "1          0\n",
              "2          0\n",
              "3          0\n",
              "4          0\n",
              "5          0\n",
              "6          0\n",
              "7          0"
            ]
          },
          "metadata": {
            "tags": []
          },
          "execution_count": 53
        }
      ]
    },
    {
      "cell_type": "code",
      "metadata": {
        "id": "jAs0s2KWZ5iV",
        "colab": {
          "base_uri": "https://localhost:8080/",
          "height": 106
        },
        "outputId": "9f5176a2-a45f-4277-869f-df958278dba2"
      },
      "source": [
        "results_final = pd.DataFrame(df_final['text'].apply(finbert_predict))\r\n",
        "results_final.columns = ['sentiment']\r\n",
        "results_final"
      ],
      "execution_count": 54,
      "outputs": [
        {
          "output_type": "execute_result",
          "data": {
            "text/html": [
              "<div>\n",
              "<style scoped>\n",
              "    .dataframe tbody tr th:only-of-type {\n",
              "        vertical-align: middle;\n",
              "    }\n",
              "\n",
              "    .dataframe tbody tr th {\n",
              "        vertical-align: top;\n",
              "    }\n",
              "\n",
              "    .dataframe thead th {\n",
              "        text-align: right;\n",
              "    }\n",
              "</style>\n",
              "<table border=\"1\" class=\"dataframe\">\n",
              "  <thead>\n",
              "    <tr style=\"text-align: right;\">\n",
              "      <th></th>\n",
              "      <th>sentiment</th>\n",
              "    </tr>\n",
              "  </thead>\n",
              "  <tbody>\n",
              "    <tr>\n",
              "      <th>0</th>\n",
              "      <td>neutral</td>\n",
              "    </tr>\n",
              "    <tr>\n",
              "      <th>1</th>\n",
              "      <td>neutral</td>\n",
              "    </tr>\n",
              "  </tbody>\n",
              "</table>\n",
              "</div>"
            ],
            "text/plain": [
              "  sentiment\n",
              "0   neutral\n",
              "1   neutral"
            ]
          },
          "metadata": {
            "tags": []
          },
          "execution_count": 54
        }
      ]
    },
    {
      "cell_type": "code",
      "metadata": {
        "colab": {
          "base_uri": "https://localhost:8080/",
          "height": 106
        },
        "id": "n5aHSR7oBBqt",
        "outputId": "487ba43c-a4a4-4282-f053-c54453207ac7"
      },
      "source": [
        "results_final = results_final.merge(df_final, how='inner', left_index=True, right_index=True)\r\n",
        "results_final"
      ],
      "execution_count": 58,
      "outputs": [
        {
          "output_type": "execute_result",
          "data": {
            "text/html": [
              "<div>\n",
              "<style scoped>\n",
              "    .dataframe tbody tr th:only-of-type {\n",
              "        vertical-align: middle;\n",
              "    }\n",
              "\n",
              "    .dataframe tbody tr th {\n",
              "        vertical-align: top;\n",
              "    }\n",
              "\n",
              "    .dataframe thead th {\n",
              "        text-align: right;\n",
              "    }\n",
              "</style>\n",
              "<table border=\"1\" class=\"dataframe\">\n",
              "  <thead>\n",
              "    <tr style=\"text-align: right;\">\n",
              "      <th></th>\n",
              "      <th>sentiment</th>\n",
              "      <th>file_name</th>\n",
              "      <th>text</th>\n",
              "      <th>date</th>\n",
              "    </tr>\n",
              "  </thead>\n",
              "  <tbody>\n",
              "    <tr>\n",
              "      <th>0</th>\n",
              "      <td>neutral</td>\n",
              "      <td>tesla_29_3_20.txt</td>\n",
              "      <td>performance based on the rate of yesterday for...</td>\n",
              "      <td>29_3_20</td>\n",
              "    </tr>\n",
              "    <tr>\n",
              "      <th>1</th>\n",
              "      <td>neutral</td>\n",
              "      <td>tesla_3_12_20.txt</td>\n",
              "      <td>please. dcf valuation estimate 15 units in 201...</td>\n",
              "      <td>3_12_20</td>\n",
              "    </tr>\n",
              "  </tbody>\n",
              "</table>\n",
              "</div>"
            ],
            "text/plain": [
              "  sentiment  ...     date\n",
              "0   neutral  ...  29_3_20\n",
              "1   neutral  ...  3_12_20\n",
              "\n",
              "[2 rows x 4 columns]"
            ]
          },
          "metadata": {
            "tags": []
          },
          "execution_count": 58
        }
      ]
    },
    {
      "cell_type": "markdown",
      "metadata": {
        "id": "RCBDITKjEM0e"
      },
      "source": [
        "# Backtesting"
      ]
    },
    {
      "cell_type": "code",
      "metadata": {
        "id": "eBqRjOmVEmSJ"
      },
      "source": [
        "tsla = pd.read_csv('drive/MyDrive/finBERT/TSLA.csv')"
      ],
      "execution_count": 45,
      "outputs": []
    },
    {
      "cell_type": "code",
      "metadata": {
        "colab": {
          "base_uri": "https://localhost:8080/",
          "height": 195
        },
        "id": "HpYW4thFFBzh",
        "outputId": "a14e2e1b-21de-4171-c245-b49754c1397b"
      },
      "source": [
        "tsla.head()"
      ],
      "execution_count": 46,
      "outputs": [
        {
          "output_type": "execute_result",
          "data": {
            "text/html": [
              "<div>\n",
              "<style scoped>\n",
              "    .dataframe tbody tr th:only-of-type {\n",
              "        vertical-align: middle;\n",
              "    }\n",
              "\n",
              "    .dataframe tbody tr th {\n",
              "        vertical-align: top;\n",
              "    }\n",
              "\n",
              "    .dataframe thead th {\n",
              "        text-align: right;\n",
              "    }\n",
              "</style>\n",
              "<table border=\"1\" class=\"dataframe\">\n",
              "  <thead>\n",
              "    <tr style=\"text-align: right;\">\n",
              "      <th></th>\n",
              "      <th>Date</th>\n",
              "      <th>Open</th>\n",
              "      <th>High</th>\n",
              "      <th>Low</th>\n",
              "      <th>Close</th>\n",
              "      <th>Adj Close</th>\n",
              "      <th>Volume</th>\n",
              "    </tr>\n",
              "  </thead>\n",
              "  <tbody>\n",
              "    <tr>\n",
              "      <th>0</th>\n",
              "      <td>2019-12-23</td>\n",
              "      <td>82.356003</td>\n",
              "      <td>84.402000</td>\n",
              "      <td>82.000000</td>\n",
              "      <td>83.844002</td>\n",
              "      <td>83.844002</td>\n",
              "      <td>66598000</td>\n",
              "    </tr>\n",
              "    <tr>\n",
              "      <th>1</th>\n",
              "      <td>2019-12-24</td>\n",
              "      <td>83.671997</td>\n",
              "      <td>85.094002</td>\n",
              "      <td>82.538002</td>\n",
              "      <td>85.050003</td>\n",
              "      <td>85.050003</td>\n",
              "      <td>40273500</td>\n",
              "    </tr>\n",
              "    <tr>\n",
              "      <th>2</th>\n",
              "      <td>2019-12-26</td>\n",
              "      <td>85.582001</td>\n",
              "      <td>86.695999</td>\n",
              "      <td>85.269997</td>\n",
              "      <td>86.188004</td>\n",
              "      <td>86.188004</td>\n",
              "      <td>53169500</td>\n",
              "    </tr>\n",
              "    <tr>\n",
              "      <th>3</th>\n",
              "      <td>2019-12-27</td>\n",
              "      <td>87.000000</td>\n",
              "      <td>87.061996</td>\n",
              "      <td>85.222000</td>\n",
              "      <td>86.075996</td>\n",
              "      <td>86.075996</td>\n",
              "      <td>49728500</td>\n",
              "    </tr>\n",
              "    <tr>\n",
              "      <th>4</th>\n",
              "      <td>2019-12-30</td>\n",
              "      <td>85.758003</td>\n",
              "      <td>85.800003</td>\n",
              "      <td>81.851997</td>\n",
              "      <td>82.940002</td>\n",
              "      <td>82.940002</td>\n",
              "      <td>62932000</td>\n",
              "    </tr>\n",
              "  </tbody>\n",
              "</table>\n",
              "</div>"
            ],
            "text/plain": [
              "         Date       Open       High        Low      Close  Adj Close    Volume\n",
              "0  2019-12-23  82.356003  84.402000  82.000000  83.844002  83.844002  66598000\n",
              "1  2019-12-24  83.671997  85.094002  82.538002  85.050003  85.050003  40273500\n",
              "2  2019-12-26  85.582001  86.695999  85.269997  86.188004  86.188004  53169500\n",
              "3  2019-12-27  87.000000  87.061996  85.222000  86.075996  86.075996  49728500\n",
              "4  2019-12-30  85.758003  85.800003  81.851997  82.940002  82.940002  62932000"
            ]
          },
          "metadata": {
            "tags": []
          },
          "execution_count": 46
        }
      ]
    },
    {
      "cell_type": "code",
      "metadata": {
        "colab": {
          "base_uri": "https://localhost:8080/",
          "height": 431
        },
        "id": "hWY3MB_TYvEj",
        "outputId": "6c35534b-312a-4d35-c23c-f1aa609d0582"
      },
      "source": [
        "tsla['Date']=pd.to_datetime(tsla['Date'])\r\n",
        "tsla.set_index('Date', inplace=True)\r\n",
        "tsla"
      ],
      "execution_count": 47,
      "outputs": [
        {
          "output_type": "execute_result",
          "data": {
            "text/html": [
              "<div>\n",
              "<style scoped>\n",
              "    .dataframe tbody tr th:only-of-type {\n",
              "        vertical-align: middle;\n",
              "    }\n",
              "\n",
              "    .dataframe tbody tr th {\n",
              "        vertical-align: top;\n",
              "    }\n",
              "\n",
              "    .dataframe thead th {\n",
              "        text-align: right;\n",
              "    }\n",
              "</style>\n",
              "<table border=\"1\" class=\"dataframe\">\n",
              "  <thead>\n",
              "    <tr style=\"text-align: right;\">\n",
              "      <th></th>\n",
              "      <th>Open</th>\n",
              "      <th>High</th>\n",
              "      <th>Low</th>\n",
              "      <th>Close</th>\n",
              "      <th>Adj Close</th>\n",
              "      <th>Volume</th>\n",
              "    </tr>\n",
              "    <tr>\n",
              "      <th>Date</th>\n",
              "      <th></th>\n",
              "      <th></th>\n",
              "      <th></th>\n",
              "      <th></th>\n",
              "      <th></th>\n",
              "      <th></th>\n",
              "    </tr>\n",
              "  </thead>\n",
              "  <tbody>\n",
              "    <tr>\n",
              "      <th>2019-12-23</th>\n",
              "      <td>82.356003</td>\n",
              "      <td>84.402000</td>\n",
              "      <td>82.000000</td>\n",
              "      <td>83.844002</td>\n",
              "      <td>83.844002</td>\n",
              "      <td>66598000</td>\n",
              "    </tr>\n",
              "    <tr>\n",
              "      <th>2019-12-24</th>\n",
              "      <td>83.671997</td>\n",
              "      <td>85.094002</td>\n",
              "      <td>82.538002</td>\n",
              "      <td>85.050003</td>\n",
              "      <td>85.050003</td>\n",
              "      <td>40273500</td>\n",
              "    </tr>\n",
              "    <tr>\n",
              "      <th>2019-12-26</th>\n",
              "      <td>85.582001</td>\n",
              "      <td>86.695999</td>\n",
              "      <td>85.269997</td>\n",
              "      <td>86.188004</td>\n",
              "      <td>86.188004</td>\n",
              "      <td>53169500</td>\n",
              "    </tr>\n",
              "    <tr>\n",
              "      <th>2019-12-27</th>\n",
              "      <td>87.000000</td>\n",
              "      <td>87.061996</td>\n",
              "      <td>85.222000</td>\n",
              "      <td>86.075996</td>\n",
              "      <td>86.075996</td>\n",
              "      <td>49728500</td>\n",
              "    </tr>\n",
              "    <tr>\n",
              "      <th>2019-12-30</th>\n",
              "      <td>85.758003</td>\n",
              "      <td>85.800003</td>\n",
              "      <td>81.851997</td>\n",
              "      <td>82.940002</td>\n",
              "      <td>82.940002</td>\n",
              "      <td>62932000</td>\n",
              "    </tr>\n",
              "    <tr>\n",
              "      <th>...</th>\n",
              "      <td>...</td>\n",
              "      <td>...</td>\n",
              "      <td>...</td>\n",
              "      <td>...</td>\n",
              "      <td>...</td>\n",
              "      <td>...</td>\n",
              "    </tr>\n",
              "    <tr>\n",
              "      <th>2020-12-14</th>\n",
              "      <td>619.000000</td>\n",
              "      <td>642.750000</td>\n",
              "      <td>610.200012</td>\n",
              "      <td>639.830017</td>\n",
              "      <td>639.830017</td>\n",
              "      <td>52040600</td>\n",
              "    </tr>\n",
              "    <tr>\n",
              "      <th>2020-12-15</th>\n",
              "      <td>643.280029</td>\n",
              "      <td>646.900024</td>\n",
              "      <td>623.799988</td>\n",
              "      <td>633.250000</td>\n",
              "      <td>633.250000</td>\n",
              "      <td>45223600</td>\n",
              "    </tr>\n",
              "    <tr>\n",
              "      <th>2020-12-16</th>\n",
              "      <td>628.229980</td>\n",
              "      <td>632.500000</td>\n",
              "      <td>605.000000</td>\n",
              "      <td>622.770020</td>\n",
              "      <td>622.770020</td>\n",
              "      <td>42095800</td>\n",
              "    </tr>\n",
              "    <tr>\n",
              "      <th>2020-12-17</th>\n",
              "      <td>628.190002</td>\n",
              "      <td>658.820007</td>\n",
              "      <td>619.500000</td>\n",
              "      <td>655.900024</td>\n",
              "      <td>655.900024</td>\n",
              "      <td>56270100</td>\n",
              "    </tr>\n",
              "    <tr>\n",
              "      <th>2020-12-18</th>\n",
              "      <td>668.900024</td>\n",
              "      <td>695.000000</td>\n",
              "      <td>628.539978</td>\n",
              "      <td>695.000000</td>\n",
              "      <td>695.000000</td>\n",
              "      <td>218741900</td>\n",
              "    </tr>\n",
              "  </tbody>\n",
              "</table>\n",
              "<p>251 rows × 6 columns</p>\n",
              "</div>"
            ],
            "text/plain": [
              "                  Open        High  ...   Adj Close     Volume\n",
              "Date                                ...                       \n",
              "2019-12-23   82.356003   84.402000  ...   83.844002   66598000\n",
              "2019-12-24   83.671997   85.094002  ...   85.050003   40273500\n",
              "2019-12-26   85.582001   86.695999  ...   86.188004   53169500\n",
              "2019-12-27   87.000000   87.061996  ...   86.075996   49728500\n",
              "2019-12-30   85.758003   85.800003  ...   82.940002   62932000\n",
              "...                ...         ...  ...         ...        ...\n",
              "2020-12-14  619.000000  642.750000  ...  639.830017   52040600\n",
              "2020-12-15  643.280029  646.900024  ...  633.250000   45223600\n",
              "2020-12-16  628.229980  632.500000  ...  622.770020   42095800\n",
              "2020-12-17  628.190002  658.820007  ...  655.900024   56270100\n",
              "2020-12-18  668.900024  695.000000  ...  695.000000  218741900\n",
              "\n",
              "[251 rows x 6 columns]"
            ]
          },
          "metadata": {
            "tags": []
          },
          "execution_count": 47
        }
      ]
    },
    {
      "cell_type": "markdown",
      "metadata": {
        "id": "qYZPQc8GCTDS"
      },
      "source": [
        "##Strategy \r\n",
        "If sentiment is found to be Positive -> Buy    \r\n",
        "If sentiment is found to be Negative -> Sell"
      ]
    },
    {
      "cell_type": "code",
      "metadata": {
        "id": "-m_TaLpzEPtu"
      },
      "source": [
        "from __future__ import (absolute_import, division, print_function,\r\n",
        "                        unicode_literals)\r\n",
        "\r\n",
        "import datetime  # For datetime objects\r\n",
        "import os.path  # To manage paths\r\n",
        "import sys  # To find out the script name (in argv[0])\r\n",
        "\r\n",
        "# Import the backtrader platform\r\n",
        "import backtrader as bt\r\n",
        "\r\n",
        "\r\n",
        "# Create a Stratey\r\n",
        "class TestStrategy(bt.Strategy):\r\n",
        "    params = (\r\n",
        "        ('exitbars', 0),\r\n",
        "    )\r\n",
        "\r\n",
        "    def log(self, txt, dt=None):\r\n",
        "        ''' Logging function fot this strategy'''\r\n",
        "        dt = dt or self.datas[0].datetime.date(0)\r\n",
        "        print('%s, %s' % (dt.isoformat(), txt))\r\n",
        "\r\n",
        "    def __init__(self):\r\n",
        "        # Keep a reference to the \"close\" line in the data[0] dataseries\r\n",
        "        self.dataclose = self.datas[0].close\r\n",
        "        self.datasent = self.datas[0].sent\r\n",
        "\r\n",
        "        # To keep track of pending orders and buy price/commission\r\n",
        "        self.order = None\r\n",
        "        self.buyprice = None\r\n",
        "        self.buycomm = None\r\n",
        "\r\n",
        "    def notify_order(self, order):\r\n",
        "        if order.status in [order.Submitted, order.Accepted]:\r\n",
        "            # Buy/Sell order submitted/accepted to/by broker - Nothing to do\r\n",
        "            return\r\n",
        "\r\n",
        "        # Check if an order has been completed\r\n",
        "        # Attention: broker could reject order if not enough cash\r\n",
        "        if order.status in [order.Completed]:\r\n",
        "            if order.isbuy():\r\n",
        "                self.log(\r\n",
        "                    'BUY EXECUTED, Price: %.2f, Cost: %.2f, Comm %.2f' %\r\n",
        "                    (order.executed.price,\r\n",
        "                     order.executed.value,\r\n",
        "                     order.executed.comm))\r\n",
        "\r\n",
        "                self.buyprice = order.executed.price\r\n",
        "                self.buycomm = order.executed.comm\r\n",
        "            else:  # Sell\r\n",
        "                self.log('SELL EXECUTED, Price: %.2f, Cost: %.2f, Comm %.2f' %\r\n",
        "                         (order.executed.price,\r\n",
        "                          order.executed.value,\r\n",
        "                          order.executed.comm))\r\n",
        "\r\n",
        "            self.bar_executed = len(self)\r\n",
        "\r\n",
        "        elif order.status in [order.Canceled, order.Margin, order.Rejected]:\r\n",
        "            self.log('Order Canceled/Margin/Rejected')\r\n",
        "\r\n",
        "        self.order = None\r\n",
        "\r\n",
        "    def notify_trade(self, trade):\r\n",
        "        if not trade.isclosed:\r\n",
        "            return\r\n",
        "\r\n",
        "        self.log('OPERATION PROFIT, GROSS %.2f, NET %.2f' %\r\n",
        "                 (trade.pnl, trade.pnlcomm))\r\n",
        "\r\n",
        "    def next(self):\r\n",
        "        # Simply log the closing price of the series from the reference\r\n",
        "        self.log('Close, %.2f' % self.dataclose[0])\r\n",
        "\r\n",
        "        # Check if an order is pending ... if yes, we cannot send a 2nd one\r\n",
        "        if self.order:\r\n",
        "            return\r\n",
        "\r\n",
        "        # Check if we are in the market\r\n",
        "        if not self.position:\r\n",
        "\r\n",
        "            # Not yet ... we MIGHT BUY if ...\r\n",
        "            if self.datasent[0] >2:\r\n",
        "              # BUY, BUY, BUY!!! (with default parameters)\r\n",
        "              self.log('BUY CREATE, %.2f' % self.dataclose[0])\r\n",
        "\r\n",
        "              # Keep track of the created order to avoid a 2nd order\r\n",
        "              self.order = self.buy()\r\n",
        "\r\n",
        "        else:\r\n",
        "\r\n",
        "            # Already in the market ... we might sell\r\n",
        "            if len(self) >= (self.bar_executed + self.params.exitbars):\r\n",
        "                # SELL, SELL, SELL!!! (with all possible default parameters)\r\n",
        "                self.log('SELL CREATE, %.2f' % self.dataclose[0])\r\n",
        "\r\n",
        "                # Keep track of the created order to avoid a 2nd order\r\n",
        "                self.order = self.sell()"
      ],
      "execution_count": 59,
      "outputs": []
    },
    {
      "cell_type": "code",
      "metadata": {
        "id": "_MOnBrTwxnfr"
      },
      "source": [
        "class PandasSent(bt.feeds.PandasData):\r\n",
        "  lines=(('sentiment'),)\r\n",
        "  params=(('sentiment',-1),)"
      ],
      "execution_count": 60,
      "outputs": []
    },
    {
      "cell_type": "code",
      "metadata": {
        "id": "JlCTJg8KE0MS"
      },
      "source": [
        "# Create a cerebro entity\r\n",
        "cerebro = bt.Cerebro()\r\n",
        "\r\n",
        "# Add a strategy\r\n",
        "cerebro.addstrategy(TestStrategy)\r\n",
        "\r\n",
        "# Create a Data Feed\r\n",
        "data = bt.feeds.PandasData(dataname=combined_df)\r\n",
        "\r\n",
        "# Add the Data Feed to Cerebro\r\n",
        "cerebro.adddata(data)\r\n",
        "\r\n",
        "# Set our desired cash start\r\n",
        "cerebro.broker.setcash(100000.0)\r\n",
        "\r\n",
        "# Add a FixedSize sizer according to the stake\r\n",
        "cerebro.addsizer(bt.sizers.FixedSize, stake=100)\r\n",
        "\r\n",
        "# Set the commission - 0.1% ... divide by 100 to remove the %\r\n",
        "cerebro.broker.setcommission(commission=0.001)\r\n",
        "\r\n",
        "# Print out the starting conditions\r\n",
        "print('Starting Portfolio Value: %.2f' % cerebro.broker.getvalue())\r\n",
        "\r\n",
        "# Run over everything\r\n",
        "cerebro.run()\r\n",
        "\r\n",
        "# Print out the final result\r\n",
        "print('Final Portfolio Value: %.2f' % cerebro.broker.getvalue())"
      ],
      "execution_count": null,
      "outputs": []
    },
    {
      "cell_type": "code",
      "metadata": {
        "id": "A7s-Y5FgyDz8"
      },
      "source": [
        "cerebro.plot(iplot=False)"
      ],
      "execution_count": null,
      "outputs": []
    }
  ]
}